{
 "cells": [
  {
   "cell_type": "markdown",
   "metadata": {},
   "source": [
    "### B) Implement the same program in python, using the built-in convolution functions in Pytorch."
   ]
  },
  {
   "cell_type": "code",
   "execution_count": 12,
   "metadata": {},
   "outputs": [],
   "source": [
    "# IMPORTS\n",
    "import os\n",
    "import math\n",
    "import cv2\n",
    "import numpy as np\n",
    " \n",
    "import torch \n",
    "import torch.nn as nn \n",
    "import torchvision.transforms as T \n",
    "from PIL import Image"
   ]
  },
  {
   "cell_type": "code",
   "execution_count": 13,
   "metadata": {},
   "outputs": [
    {
     "data": {
      "text/plain": [
       "True"
      ]
     },
     "execution_count": 13,
     "metadata": {},
     "output_type": "execute_result"
    }
   ],
   "source": [
    "torch.cuda.is_available()"
   ]
  },
  {
   "cell_type": "code",
   "execution_count": 14,
   "metadata": {},
   "outputs": [],
   "source": [
    "\n",
    "IMAGE_WIDTH = 512\n",
    "IMAGE_HEGHT = 256"
   ]
  },
  {
   "cell_type": "code",
   "execution_count": 15,
   "metadata": {},
   "outputs": [],
   "source": [
    "\n",
    "def read_images(input_folder_path):\n",
    "    images = []\n",
    "    images_names = []\n",
    "    for image_name in os.listdir(input_folder_path):\n",
    "        image = cv2.imread(input_folder_path + '/' + image_name)\n",
    "        if image is not None:\n",
    "            images.append(image)\n",
    "            images_names.append(image_name)\n",
    "        \n",
    "    return images, images_names\n",
    "\n",
    "def save_images(output_folder, images, images_names):\n",
    "    for image, image_name in zip(images, images_names):\n",
    "        print(image_name)\n",
    "        cv2.imwrite(output_folder + '/' + image_name, image)\n",
    "\n",
    "\n",
    "def read_mask(mask_file_path):\n",
    "    with open(mask_file_path) as mask_file:\n",
    "        mask_size = int(next(mask_file))\n",
    "        mask = []\n",
    "        for line in mask_file:\n",
    "            mask.append([float(x) for x in line.split()])  \n",
    "        return mask_size, mask\n",
    "    \n",
    "\n",
    "# images, names = read_images('./input')\n",
    "# # save_images('./output' , images, names)\n",
    "# mask_size, mask = read_mask('mask.txt')\n"
   ]
  },
  {
   "cell_type": "code",
   "execution_count": 16,
   "metadata": {},
   "outputs": [],
   "source": [
    "\n",
    "def convolution(images, mask, mask_size, batch_size=1):\n",
    "    padding = math.floor(mask_size / 2)\n",
    "    \n",
    "\t# Define the convolutional layer outside of loop layer\n",
    "    conv_layer = nn.Conv2d(in_channels=3, out_channels=3, kernel_size=mask_size, padding=padding, bias=False)\n",
    "\t# Define weights for the kernel by our mask\n",
    "    mask_tensor = torch.tensor(mask, dtype=torch.float32).unsqueeze(0).unsqueeze(0)\n",
    "    mask_tensor = torch.cat([mask_tensor] * 3)\n",
    "\n",
    "\t# Set the weights of the convolutional layer\n",
    "    with torch.no_grad():  # Disable gradient tracking to avoid unnecessary computation\n",
    "       conv_layer.weight.copy_(mask_tensor)\n",
    "\n",
    "    # Divide images into batches\n",
    "    out_images = []\n",
    "    for i in range(0, len(images), batch_size):\n",
    "        if i+batch_size > len(images):\n",
    "            batch_images = images[i:]\n",
    "        else:\n",
    "            batch_images = images[i:i+batch_size]\n",
    "\n",
    "    \n",
    "    \t# Stack images along the batch dimension\n",
    "        input_batch_images = torch.stack([torch.tensor(image) for image in batch_images])\n",
    "\n",
    "\t\t# Normalize the pixel values to the range [0, 1] and adjust the shape\n",
    "\t\t# Assuming the input images are in the range [0, 255]\n",
    "        input_batch_images = input_batch_images.permute(0, 3, 1, 2).float()\n",
    "\n",
    "\n",
    "\t\t# Apply convolutional layer to the batch of images\n",
    "        output_tensor = conv_layer(input_batch_images)\n",
    "\n",
    "\t\t# Convert output tensor back to PIL images\n",
    "        batch_outputs = [np.array(T.ToPILImage()(img.squeeze(0))) for img in output_tensor]\n",
    "        out_images.extend(batch_outputs)\n",
    "    return out_images\n"
   ]
  },
  {
   "cell_type": "code",
   "execution_count": 18,
   "metadata": {},
   "outputs": [
    {
     "name": "stdout",
     "output_type": "stream",
     "text": [
      "bird1.jpg\n",
      "bird2.jpg\n",
      "kalboob1.jpg\n",
      "kalboob2.jpg\n",
      "lion1.jpeg\n",
      "lion2.jpeg\n",
      "pyramid.jpg\n",
      "pyramids2.jpg\n",
      "tree.jpg\n",
      "tree2.jpg\n"
     ]
    }
   ],
   "source": [
    "images, names = read_images('./input')\n",
    "mask_size, mask = read_mask('mask_9.txt')\n",
    "out_images = convolution(images, mask, mask_size, batch_size=3)\n",
    "save_images('./output' , out_images, names)"
   ]
  }
 ],
 "metadata": {
  "kernelspec": {
   "display_name": "Python 3",
   "language": "python",
   "name": "python3"
  },
  "language_info": {
   "codemirror_mode": {
    "name": "ipython",
    "version": 3
   },
   "file_extension": ".py",
   "mimetype": "text/x-python",
   "name": "python",
   "nbconvert_exporter": "python",
   "pygments_lexer": "ipython3",
   "version": "3.11.5"
  }
 },
 "nbformat": 4,
 "nbformat_minor": 2
}
